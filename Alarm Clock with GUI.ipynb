{
 "cells": [
  {
   "cell_type": "code",
   "execution_count": null,
   "id": "451f7f7d",
   "metadata": {},
   "outputs": [],
   "source": [
    "import tkinter as tk\n",
    "from tkinter import messagebox\n",
    "import time\n",
    "import threading\n",
    "\n",
    "class AlarmClock:\n",
    "    def __init__(self, root):\n",
    "        self.root = root\n",
    "        self.root.title(\"Alarm Clock\")\n",
    "        \n",
    "        self.label = tk.Label(root, text=\"Set Alarm (HH:MM:SS):\")\n",
    "        self.label.pack()\n",
    "        \n",
    "        self.entry = tk.Entry(root)\n",
    "        self.entry.pack()\n",
    "        \n",
    "        self.button = tk.Button(root, text=\"Set Alarm\", command=self.set_alarm)\n",
    "        self.button.pack()\n",
    "        \n",
    "    def set_alarm(self):\n",
    "        alarm_time = self.entry.get()\n",
    "        \n",
    "        try:\n",
    "            # Parse the user-provided time\n",
    "            alarm_h, alarm_m, alarm_s = map(int, alarm_time.split(':'))\n",
    "            \n",
    "            # Get the current time\n",
    "            current_time = time.localtime()\n",
    "            current_h, current_m, current_s = current_time.tm_hour, current_time.tm_min, current_time.tm_sec\n",
    "            \n",
    "            # Calculate the time difference in seconds\n",
    "            time_diff = (alarm_h - current_h) * 3600 + (alarm_m - current_m) * 60 + (alarm_s - current_s)\n",
    "            \n",
    "            if time_diff < 0:\n",
    "                raise ValueError(\"Invalid time\")\n",
    "            \n",
    "            # Schedule the alarm\n",
    "            alarm_thread = threading.Timer(time_diff, self.trigger_alarm)\n",
    "            alarm_thread.start()\n",
    "            messagebox.showinfo(\"Alarm Set\", f\"Alarm set for {alarm_time}.\")\n",
    "        except ValueError:\n",
    "            messagebox.showerror(\"Invalid Time\", \"Please enter a valid future time.\")\n",
    "\n",
    "    def trigger_alarm(self):\n",
    "        messagebox.showinfo(\"Alarm\", \"Time's up! Alarm triggered.\")\n",
    "        \n",
    "if __name__ == '__main__':\n",
    "    root = tk.Tk()\n",
    "    alarm_clock = AlarmClock(root)\n",
    "    root.mainloop()\n"
   ]
  },
  {
   "cell_type": "code",
   "execution_count": null,
   "id": "767174dc",
   "metadata": {},
   "outputs": [],
   "source": []
  }
 ],
 "metadata": {
  "kernelspec": {
   "display_name": "Python 3 (ipykernel)",
   "language": "python",
   "name": "python3"
  },
  "language_info": {
   "codemirror_mode": {
    "name": "ipython",
    "version": 3
   },
   "file_extension": ".py",
   "mimetype": "text/x-python",
   "name": "python",
   "nbconvert_exporter": "python",
   "pygments_lexer": "ipython3",
   "version": "3.11.4"
  }
 },
 "nbformat": 4,
 "nbformat_minor": 5
}
